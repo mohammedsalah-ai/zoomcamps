{
 "cells": [
  {
   "cell_type": "markdown",
   "id": "6a2d433e-e7d1-46e1-bd64-817a37d262fa",
   "metadata": {},
   "source": [
    "# **Ingestion Walkthrough**"
   ]
  },
  {
   "cell_type": "code",
   "execution_count": 1,
   "id": "73a58a01-78ef-41d8-bc77-70b7e02842d3",
   "metadata": {},
   "outputs": [],
   "source": [
    "import time\n",
    "import pandas as pd\n",
    "from sqlalchemy import create_engine, text\n",
    "from sqlalchemy import Integer, String, DateTime, Numeric"
   ]
  },
  {
   "cell_type": "markdown",
   "id": "262527f0-e4b9-40b7-939a-81f2abcdac76",
   "metadata": {},
   "source": [
    "Setting up postgres connection."
   ]
  },
  {
   "cell_type": "code",
   "execution_count": 2,
   "id": "8bdea8a3-ebe5-4004-8a8b-08e06206abea",
   "metadata": {},
   "outputs": [],
   "source": [
    "DATABASE_HOST = \"postgresdb\"\n",
    "DATABASE_PORT = 5432\n",
    "DATABASE_NAME = \"taxi\"\n",
    "DATABASE_USERNAME = \"supermaker\"\n",
    "DATABASE_PASSWORD = \"superpasswd\""
   ]
  },
  {
   "cell_type": "code",
   "execution_count": 3,
   "id": "4b4f7b07-4b0a-4a5f-bd4f-91633599a95e",
   "metadata": {},
   "outputs": [],
   "source": [
    "connection_string = f\"postgresql+psycopg2://{DATABASE_USERNAME}:{DATABASE_PASSWORD}@{DATABASE_HOST}:{DATABASE_PORT}/{DATABASE_NAME}\""
   ]
  },
  {
   "cell_type": "code",
   "execution_count": 4,
   "id": "885a9ba8-50e7-4e71-8e65-8a6c048a582c",
   "metadata": {},
   "outputs": [],
   "source": [
    "engine = create_engine(connection_string)"
   ]
  },
  {
   "cell_type": "markdown",
   "id": "0b2140ce-ddaf-488f-8749-8fadda2f7129",
   "metadata": {},
   "source": [
    "experimenting with the data."
   ]
  },
  {
   "cell_type": "code",
   "execution_count": 17,
   "id": "da99cac4-ae0d-4a16-a1df-98214c923ea7",
   "metadata": {},
   "outputs": [
    {
     "data": {
      "text/html": [
       "<div>\n",
       "<style scoped>\n",
       "    .dataframe tbody tr th:only-of-type {\n",
       "        vertical-align: middle;\n",
       "    }\n",
       "\n",
       "    .dataframe tbody tr th {\n",
       "        vertical-align: top;\n",
       "    }\n",
       "\n",
       "    .dataframe thead th {\n",
       "        text-align: right;\n",
       "    }\n",
       "</style>\n",
       "<table border=\"1\" class=\"dataframe\">\n",
       "  <thead>\n",
       "    <tr style=\"text-align: right;\">\n",
       "      <th></th>\n",
       "      <th>VendorID</th>\n",
       "      <th>tpep_pickup_datetime</th>\n",
       "      <th>tpep_dropoff_datetime</th>\n",
       "      <th>passenger_count</th>\n",
       "      <th>trip_distance</th>\n",
       "      <th>RatecodeID</th>\n",
       "      <th>store_and_fwd_flag</th>\n",
       "      <th>PULocationID</th>\n",
       "      <th>DOLocationID</th>\n",
       "      <th>payment_type</th>\n",
       "      <th>fare_amount</th>\n",
       "      <th>extra</th>\n",
       "      <th>mta_tax</th>\n",
       "      <th>tip_amount</th>\n",
       "      <th>tolls_amount</th>\n",
       "      <th>improvement_surcharge</th>\n",
       "      <th>total_amount</th>\n",
       "      <th>congestion_surcharge</th>\n",
       "    </tr>\n",
       "  </thead>\n",
       "  <tbody>\n",
       "    <tr>\n",
       "      <th>0</th>\n",
       "      <td>1</td>\n",
       "      <td>2021-01-01 00:30:10</td>\n",
       "      <td>2021-01-01 00:36:12</td>\n",
       "      <td>1</td>\n",
       "      <td>2.10</td>\n",
       "      <td>1</td>\n",
       "      <td>N</td>\n",
       "      <td>142</td>\n",
       "      <td>43</td>\n",
       "      <td>2</td>\n",
       "      <td>8.0</td>\n",
       "      <td>3.0</td>\n",
       "      <td>0.5</td>\n",
       "      <td>0.00</td>\n",
       "      <td>0.0</td>\n",
       "      <td>0.3</td>\n",
       "      <td>11.80</td>\n",
       "      <td>2.5</td>\n",
       "    </tr>\n",
       "    <tr>\n",
       "      <th>1</th>\n",
       "      <td>1</td>\n",
       "      <td>2021-01-01 00:51:20</td>\n",
       "      <td>2021-01-01 00:52:19</td>\n",
       "      <td>1</td>\n",
       "      <td>0.20</td>\n",
       "      <td>1</td>\n",
       "      <td>N</td>\n",
       "      <td>238</td>\n",
       "      <td>151</td>\n",
       "      <td>2</td>\n",
       "      <td>3.0</td>\n",
       "      <td>0.5</td>\n",
       "      <td>0.5</td>\n",
       "      <td>0.00</td>\n",
       "      <td>0.0</td>\n",
       "      <td>0.3</td>\n",
       "      <td>4.30</td>\n",
       "      <td>0.0</td>\n",
       "    </tr>\n",
       "    <tr>\n",
       "      <th>2</th>\n",
       "      <td>1</td>\n",
       "      <td>2021-01-01 00:43:30</td>\n",
       "      <td>2021-01-01 01:11:06</td>\n",
       "      <td>1</td>\n",
       "      <td>14.70</td>\n",
       "      <td>1</td>\n",
       "      <td>N</td>\n",
       "      <td>132</td>\n",
       "      <td>165</td>\n",
       "      <td>1</td>\n",
       "      <td>42.0</td>\n",
       "      <td>0.5</td>\n",
       "      <td>0.5</td>\n",
       "      <td>8.65</td>\n",
       "      <td>0.0</td>\n",
       "      <td>0.3</td>\n",
       "      <td>51.95</td>\n",
       "      <td>0.0</td>\n",
       "    </tr>\n",
       "    <tr>\n",
       "      <th>3</th>\n",
       "      <td>1</td>\n",
       "      <td>2021-01-01 00:15:48</td>\n",
       "      <td>2021-01-01 00:31:01</td>\n",
       "      <td>0</td>\n",
       "      <td>10.60</td>\n",
       "      <td>1</td>\n",
       "      <td>N</td>\n",
       "      <td>138</td>\n",
       "      <td>132</td>\n",
       "      <td>1</td>\n",
       "      <td>29.0</td>\n",
       "      <td>0.5</td>\n",
       "      <td>0.5</td>\n",
       "      <td>6.05</td>\n",
       "      <td>0.0</td>\n",
       "      <td>0.3</td>\n",
       "      <td>36.35</td>\n",
       "      <td>0.0</td>\n",
       "    </tr>\n",
       "    <tr>\n",
       "      <th>4</th>\n",
       "      <td>2</td>\n",
       "      <td>2021-01-01 00:31:49</td>\n",
       "      <td>2021-01-01 00:48:21</td>\n",
       "      <td>1</td>\n",
       "      <td>4.94</td>\n",
       "      <td>1</td>\n",
       "      <td>N</td>\n",
       "      <td>68</td>\n",
       "      <td>33</td>\n",
       "      <td>1</td>\n",
       "      <td>16.5</td>\n",
       "      <td>0.5</td>\n",
       "      <td>0.5</td>\n",
       "      <td>4.06</td>\n",
       "      <td>0.0</td>\n",
       "      <td>0.3</td>\n",
       "      <td>24.36</td>\n",
       "      <td>2.5</td>\n",
       "    </tr>\n",
       "  </tbody>\n",
       "</table>\n",
       "</div>"
      ],
      "text/plain": [
       "   VendorID tpep_pickup_datetime tpep_dropoff_datetime  passenger_count  \\\n",
       "0         1  2021-01-01 00:30:10   2021-01-01 00:36:12                1   \n",
       "1         1  2021-01-01 00:51:20   2021-01-01 00:52:19                1   \n",
       "2         1  2021-01-01 00:43:30   2021-01-01 01:11:06                1   \n",
       "3         1  2021-01-01 00:15:48   2021-01-01 00:31:01                0   \n",
       "4         2  2021-01-01 00:31:49   2021-01-01 00:48:21                1   \n",
       "\n",
       "   trip_distance  RatecodeID store_and_fwd_flag  PULocationID  DOLocationID  \\\n",
       "0           2.10           1                  N           142            43   \n",
       "1           0.20           1                  N           238           151   \n",
       "2          14.70           1                  N           132           165   \n",
       "3          10.60           1                  N           138           132   \n",
       "4           4.94           1                  N            68            33   \n",
       "\n",
       "   payment_type  fare_amount  extra  mta_tax  tip_amount  tolls_amount  \\\n",
       "0             2          8.0    3.0      0.5        0.00           0.0   \n",
       "1             2          3.0    0.5      0.5        0.00           0.0   \n",
       "2             1         42.0    0.5      0.5        8.65           0.0   \n",
       "3             1         29.0    0.5      0.5        6.05           0.0   \n",
       "4             1         16.5    0.5      0.5        4.06           0.0   \n",
       "\n",
       "   improvement_surcharge  total_amount  congestion_surcharge  \n",
       "0                    0.3         11.80                   2.5  \n",
       "1                    0.3          4.30                   0.0  \n",
       "2                    0.3         51.95                   0.0  \n",
       "3                    0.3         36.35                   0.0  \n",
       "4                    0.3         24.36                   2.5  "
      ]
     },
     "execution_count": 17,
     "metadata": {},
     "output_type": "execute_result"
    }
   ],
   "source": [
    "yellow_taxi_df = pd.read_csv(\"data/yellow_tripdata_2021-01.csv.gz\", nrows=100)\n",
    "yellow_taxi_df.head()"
   ]
  },
  {
   "cell_type": "code",
   "execution_count": 18,
   "id": "d1957f67-7810-4f66-be08-b8b0c016807f",
   "metadata": {},
   "outputs": [
    {
     "name": "stdout",
     "output_type": "stream",
     "text": [
      "<class 'pandas.core.frame.DataFrame'>\n",
      "RangeIndex: 100 entries, 0 to 99\n",
      "Data columns (total 18 columns):\n",
      " #   Column                 Non-Null Count  Dtype  \n",
      "---  ------                 --------------  -----  \n",
      " 0   VendorID               100 non-null    int64  \n",
      " 1   tpep_pickup_datetime   100 non-null    object \n",
      " 2   tpep_dropoff_datetime  100 non-null    object \n",
      " 3   passenger_count        100 non-null    int64  \n",
      " 4   trip_distance          100 non-null    float64\n",
      " 5   RatecodeID             100 non-null    int64  \n",
      " 6   store_and_fwd_flag     100 non-null    object \n",
      " 7   PULocationID           100 non-null    int64  \n",
      " 8   DOLocationID           100 non-null    int64  \n",
      " 9   payment_type           100 non-null    int64  \n",
      " 10  fare_amount            100 non-null    float64\n",
      " 11  extra                  100 non-null    float64\n",
      " 12  mta_tax                100 non-null    float64\n",
      " 13  tip_amount             100 non-null    float64\n",
      " 14  tolls_amount           100 non-null    float64\n",
      " 15  improvement_surcharge  100 non-null    float64\n",
      " 16  total_amount           100 non-null    float64\n",
      " 17  congestion_surcharge   100 non-null    float64\n",
      "dtypes: float64(9), int64(6), object(3)\n",
      "memory usage: 14.2+ KB\n"
     ]
    }
   ],
   "source": [
    "yellow_taxi_df.info()"
   ]
  },
  {
   "cell_type": "markdown",
   "id": "f1a4d91b-38e2-4ad2-89e9-e186915fa5c7",
   "metadata": {},
   "source": [
    "creating a schema with sqlalchemy dtypes"
   ]
  },
  {
   "cell_type": "code",
   "execution_count": 19,
   "id": "382360bd-43d5-4132-a390-f70ab0ce609f",
   "metadata": {},
   "outputs": [],
   "source": [
    "df_schema = {\n",
    "     'tpep_pickup_datetime': DateTime,\n",
    "     'tpep_dropoff_datetime': DateTime,\n",
    "}"
   ]
  },
  {
   "cell_type": "code",
   "execution_count": 25,
   "id": "608ba1c9-5da4-41a4-986c-74721dd6a3dd",
   "metadata": {},
   "outputs": [],
   "source": [
    "yellow_taxi_df_iter = pd.read_csv(\"data/yellow_tripdata_2021-02.csv.gz\", iterator=True, chunksize=100000)"
   ]
  },
  {
   "cell_type": "code",
   "execution_count": 27,
   "id": "2c2845f0-6354-40ec-8b85-52d8449ae58f",
   "metadata": {},
   "outputs": [],
   "source": [
    "for index, chunk in enumerate(yellow_taxi_df_iter):\n",
    "    tik = time.time()\n",
    "    chunk.to_sql(name=\"yellow\", con=engine, if_exists='append', dtype=df_schema)\n",
    "    tok = time.time()\n",
    "    print(f\"chunk {index + 1} took {tok - tik} seconds\")"
   ]
  },
  {
   "cell_type": "code",
   "execution_count": 28,
   "id": "a9d42762-c88b-486d-8dda-d939766b20ea",
   "metadata": {},
   "outputs": [
    {
     "name": "stdout",
     "output_type": "stream",
     "text": [
      "(4566625,)\n"
     ]
    }
   ],
   "source": [
    "with engine.connect() as conn:\n",
    "    rows = conn.execute(text(\"SELECT count(1) FROM yellow;\"))\n",
    "    for row in rows:\n",
    "        print(row)"
   ]
  },
  {
   "cell_type": "code",
   "execution_count": 16,
   "id": "3f2219cf-cabb-444c-b65a-bb6e145df8a2",
   "metadata": {},
   "outputs": [
    {
     "name": "stdout",
     "output_type": "stream",
     "text": [
      "(0, 2, datetime.datetime(2021, 3, 1, 0, 22, 2), datetime.datetime(2021, 3, 1, 0, 23, 22), 1, 0.0, 1, 'N', 264, 264, 2, 3.0, 0.5, 0.5, 0.0, 0.0, 0.3, 4.3, 0.0)\n",
      "(1, 2, datetime.datetime(2021, 3, 1, 0, 24, 48), datetime.datetime(2021, 3, 1, 0, 24, 56), 1, 0.0, 1, 'N', 152, 152, 2, 2.5, 0.5, 0.5, 0.0, 0.0, 0.3, 3.8, 0.0)\n",
      "(2, 2, datetime.datetime(2021, 3, 1, 0, 25, 17), datetime.datetime(2021, 3, 1, 0, 31, 1), 1, 0.0, 1, 'N', 152, 152, 2, 3.5, 0.5, 0.5, 0.0, 0.0, 0.3, 4.8, 0.0)\n",
      "(3, 1, datetime.datetime(2021, 3, 1, 0, 7, 40), datetime.datetime(2021, 3, 1, 0, 31, 23), 0, 16.5, 4, 'N', 138, 265, 1, 51.0, 0.5, 0.5, 11.65, 6.12, 0.3, 70.07, 0.0)\n",
      "(4, 2, datetime.datetime(2021, 3, 1, 0, 2, 13), datetime.datetime(2021, 3, 1, 0, 6, 1), 1, 1.13, 1, 'N', 68, 264, 1, 5.5, 0.5, 0.5, 1.86, 0.0, 0.3, 11.16, 2.5)\n",
      "(5, 2, datetime.datetime(2021, 3, 1, 0, 40, 16), datetime.datetime(2021, 3, 1, 0, 50, 23), 1, 2.68, 1, 'N', 239, 262, 1, 10.5, 0.5, 0.5, 4.29, 0.0, 0.3, 18.59, 2.5)\n",
      "(6, 1, datetime.datetime(2021, 3, 1, 0, 4), datetime.datetime(2021, 3, 1, 0, 44, 20), 1, 12.4, 1, 'N', 186, 91, 1, 40.0, 3.0, 0.5, 0.0, 0.0, 0.3, 43.8, 2.5)\n",
      "(7, 1, datetime.datetime(2021, 3, 1, 0, 49, 21), datetime.datetime(2021, 3, 1, 1, 6, 57), 2, 9.7, 4, 'N', 132, 265, 2, 31.0, 0.5, 0.5, 0.0, 0.0, 0.3, 32.3, 0.0)\n",
      "(8, 1, datetime.datetime(2021, 3, 1, 0, 13, 15), datetime.datetime(2021, 3, 1, 0, 30, 8), 1, 9.3, 1, 'N', 138, 141, 1, 26.5, 3.0, 0.5, 7.25, 6.12, 0.3, 43.67, 2.5)\n",
      "(9, 2, datetime.datetime(2021, 3, 1, 0, 9, 6), datetime.datetime(2021, 3, 1, 0, 31, 7), 1, 9.58, 1, 'N', 138, 50, 1, 28.5, 0.5, 0.5, 7.68, 6.12, 0.3, 46.1, 2.5)\n"
     ]
    }
   ],
   "source": [
    "with engine.connect() as conn:\n",
    "    rows = conn.execute(text(\"SELECT * FROM yellow LIMIT 10;\"))\n",
    "    for row in rows:\n",
    "        print(row)"
   ]
  },
  {
   "cell_type": "code",
   "execution_count": 13,
   "id": "dd53f49e-8b42-45a5-bd53-ea7c7ae0d649",
   "metadata": {},
   "outputs": [],
   "source": [
    "# in case if you want to drop the ingested table and change something\n",
    "with engine.connect() as conn:\n",
    "    conn.execute(text(\"DROP TABLE yellow\"))\n",
    "    conn.commit()"
   ]
  },
  {
   "cell_type": "code",
   "execution_count": null,
   "id": "bb62cc7b-20b3-49e9-b00b-edd9e713cc1a",
   "metadata": {},
   "outputs": [],
   "source": []
  }
 ],
 "metadata": {
  "kernelspec": {
   "display_name": "Python 3 (ipykernel)",
   "language": "python",
   "name": "python3"
  },
  "language_info": {
   "codemirror_mode": {
    "name": "ipython",
    "version": 3
   },
   "file_extension": ".py",
   "mimetype": "text/x-python",
   "name": "python",
   "nbconvert_exporter": "python",
   "pygments_lexer": "ipython3",
   "version": "3.11.8"
  }
 },
 "nbformat": 4,
 "nbformat_minor": 5
}
